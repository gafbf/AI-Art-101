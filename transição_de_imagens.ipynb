{
  "nbformat": 4,
  "nbformat_minor": 0,
  "metadata": {
    "colab": {
      "provenance": [],
      "authorship_tag": "ABX9TyOUXXJykwRmBWp4ne2WGXai",
      "include_colab_link": true
    },
    "kernelspec": {
      "name": "python3",
      "display_name": "Python 3"
    },
    "language_info": {
      "name": "python"
    }
  },
  "cells": [
    {
      "cell_type": "markdown",
      "metadata": {
        "id": "view-in-github",
        "colab_type": "text"
      },
      "source": [
        "<a href=\"https://colab.research.google.com/github/gafbf/AI-Art-101/blob/main/transi%C3%A7%C3%A3o_de_imagens.ipynb\" target=\"_parent\"><img src=\"https://colab.research.google.com/assets/colab-badge.svg\" alt=\"Open In Colab\"/></a>"
      ]
    },
    {
      "cell_type": "code",
      "source": [
        "import cv2\n",
        "import os\n",
        "\n",
        "# Define o caminho para as pastas de entrada e saída\n",
        "input_folder = 'in-out/input/'\n",
        "output_folder = 'in-out/output/'\n",
        "\n",
        "# Define os caminhos para as imagens de entrada e saída\n",
        "input_path = os.path.join(input_folder, 'input.jpg')\n",
        "output_path = os.path.join(output_folder, 'output.jpg')\n",
        "\n",
        "# Carrega as imagens de entrada e saída\n",
        "img_input = cv2.imread(input_path)\n",
        "img_output = cv2.imread(output_path)\n",
        "\n",
        "# Cria uma lista para armazenar os frames interpolados\n",
        "frames = []\n",
        "\n",
        "# Realiza a interpolação temporal entre as duas imagens\n",
        "for i in range(1, 60):\n",
        "    alpha = i / 60.0\n",
        "    if img_input is not None and img_output is not None:\n",
        "        # Converte as imagens para escala de cinza e realiza a operação de mistura\n",
        "        mixed_image = cv2.addWeighted(img_input, 1 - alpha, img_output, alpha, 0)\n",
        "        gray_image = cv2.cvtColor(mixed_image, cv2.COLOR_BGR2GRAY)\n",
        "        \n",
        "        # Cria a máscara para o inpainting\n",
        "        ret, mask = cv2.threshold(gray_image, 1, 255, cv2.THRESH_BINARY_INV)\n",
        "        \n",
        "        # Realiza o inpainting\n",
        "        frame = cv2.inpaint(mixed_image, mask, 3, cv2.INPAINT_TELEA)\n",
        "        \n",
        "        # Adiciona o frame interpolado na lista de frames\n",
        "        frames.append(frame)\n",
        "\n",
        "if not frames:\n",
        "    print(\"Nenhuma imagem de entrada encontrada na pasta especificada\")\n",
        "    exit()\n",
        "\n",
        "# Define as configurações do codec e do arquivo de vídeo\n",
        "fourcc = cv2.VideoWriter_fourcc(*'mp4v')\n",
        "out_video_path = os.path.join(output_folder, 'output_video.mp4')\n",
        "height, width, layers = frames[0].shape\n",
        "size = (width, height)\n",
        "\n",
        "# Cria o objeto de escrita do vídeo\n",
        "out_video = cv2.VideoWriter(out_video_path, fourcc, 20.0, size)\n",
        "\n",
        "# Escreve cada frame na saída de vídeo\n",
        "for frame in frames:\n",
        "    out_video.write(frame)\n",
        "\n",
        "# Libera os objetos de vídeo\n",
        "out_video.release()\n",
        "\n",
        "# Imprime uma mensagem informando a conclusão do processamento\n",
        "print('Vídeo gerado com sucesso!')\n"
      ],
      "metadata": {
        "colab": {
          "base_uri": "https://localhost:8080/"
        },
        "id": "dCgdlNXGgxuQ",
        "outputId": "ade71f8d-38f7-4a1b-8b01-37cbffe49e26"
      },
      "execution_count": 1,
      "outputs": [
        {
          "output_type": "stream",
          "name": "stdout",
          "text": [
            "Vídeo gerado com sucesso!\n"
          ]
        }
      ]
    }
  ]
}